{
 "cells": [
  {
   "cell_type": "code",
   "execution_count": 92,
   "id": "f2f4652c",
   "metadata": {},
   "outputs": [],
   "source": [
    "# import libraries\n",
    "# !pip install kaggle\n",
    "# !pip install pandas\n",
    "\n",
    "import kaggle\n",
    "import zipfile\n",
    "import pandas as pd\n",
    "import sqlalchemy as sal"
   ]
  },
  {
   "cell_type": "code",
   "execution_count": 15,
   "id": "536123e0",
   "metadata": {},
   "outputs": [],
   "source": [
    "# download dataset using kaggle API\n",
    "!kaggle datasets download ankitbansal06/retail-orders -f orders.csv"
   ]
  },
  {
   "cell_type": "code",
   "execution_count": 82,
   "id": "80fbc2b3",
   "metadata": {},
   "outputs": [],
   "source": [
    "# extract zip file\n",
    "\n",
    "zipfile_name = 'orders.csv.zip'\n",
    "with zipfile.ZipFile(zipfile_name, 'r') as file: # loading the file\n",
    "    file.extractall() # extract the file"
   ]
  },
  {
   "cell_type": "code",
   "execution_count": 83,
   "id": "02738875",
   "metadata": {},
   "outputs": [],
   "source": [
    "# read data from the file and handle null values\n",
    "\n",
    "df = pd.read_csv('orders.csv', na_values=['Not Available', 'unknown'])"
   ]
  },
  {
   "cell_type": "code",
   "execution_count": 84,
   "id": "ae716f1a",
   "metadata": {},
   "outputs": [],
   "source": [
    "# rename columns name\n",
    "\n",
    "df.columns = df.columns.str.lower()\n",
    "df.columns = df.columns.str.replace(' ', '_')"
   ]
  },
  {
   "cell_type": "code",
   "execution_count": 85,
   "id": "2490413d",
   "metadata": {},
   "outputs": [],
   "source": [
    "# derive new columns discount, sales price and profit\n",
    "\n",
    "df['discount'] = df['list_price']*df['discount_percent']/100\n",
    "df['sales_price'] = df['list_price'] - df['discount']\n",
    "df['profit'] = df['sales_price'] - df['cost_price']"
   ]
  },
  {
   "cell_type": "code",
   "execution_count": 86,
   "id": "cb7fc3a5",
   "metadata": {},
   "outputs": [
    {
     "data": {
      "text/plain": [
       "0      2023-03-01\n",
       "1      2023-08-15\n",
       "2      2023-01-10\n",
       "3      2022-06-18\n",
       "4      2022-07-13\n",
       "          ...    \n",
       "9989   2023-02-18\n",
       "9990   2023-03-17\n",
       "9991   2022-08-07\n",
       "9992   2022-11-19\n",
       "9993   2022-07-17\n",
       "Name: order_date, Length: 9994, dtype: datetime64[ns]"
      ]
     },
     "execution_count": 86,
     "metadata": {},
     "output_type": "execute_result"
    }
   ],
   "source": [
    "#  comvert order date from object data type to datetime\n",
    "pd.to_datetime(df['order_date'], format=\"%Y-%m-%d\")"
   ]
  },
  {
   "cell_type": "code",
   "execution_count": 87,
   "id": "94a86b26",
   "metadata": {},
   "outputs": [],
   "source": [
    "# drop cost price, list price and discount percent columns\n",
    "df.drop(columns=['list_price', 'cost_price', 'discount_percent'],inplace=True)"
   ]
  },
  {
   "cell_type": "code",
   "execution_count": 95,
   "id": "eab483e7",
   "metadata": {},
   "outputs": [
    {
     "data": {
      "text/plain": [
       "38"
      ]
     },
     "execution_count": 95,
     "metadata": {},
     "output_type": "execute_result"
    }
   ],
   "source": [
    "# load the data into sql server\n",
    "engine = sal.create_engine('mssql://Pat/master?driver=ODBC+DRIVER+17+FOR+SQL+SERVER')\n",
    "connection=engine.connect()\n",
    "df.to_sql('df_orders', con=connection, index=False, if_exists = 'replace')"
   ]
  }
 ],
 "metadata": {
  "kernelspec": {
   "display_name": "Python 3 (ipykernel)",
   "language": "python",
   "name": "python3"
  },
  "language_info": {
   "codemirror_mode": {
    "name": "ipython",
    "version": 3
   },
   "file_extension": ".py",
   "mimetype": "text/x-python",
   "name": "python",
   "nbconvert_exporter": "python",
   "pygments_lexer": "ipython3",
   "version": "3.10.9"
  }
 },
 "nbformat": 4,
 "nbformat_minor": 5
}
